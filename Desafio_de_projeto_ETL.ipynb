{
 "cells": [
  {
   "cell_type": "markdown",
   "metadata": {},
   "source": [
    "DIO - Desafio de Projeto - ETL com Python \n",
    "    O projeto tem como objetivo identificar qual será a divisão de clientes por classe, pra que a partir desse novos dados\n",
    "    o Banco possa oferecer um atendendimento e beneficios presonalizazdos para cada cliente.\n",
    "\n",
    "Extract \n",
    "\n",
    "    * Extração dos dados de um arquivo \"csv\" utilizando a biblioteca Pandas;\n",
    "    * Atribuição de colunas a variáveis;\n",
    "    * Conferir se os dados foram carregados corretamente usando o \"display()\"."
   ]
  },
  {
   "cell_type": "code",
   "execution_count": null,
   "metadata": {},
   "outputs": [],
   "source": [
    "import pandas as pd\n",
    "\n",
    "df = pd.read_csv(\"./SDW2023.csv\")\n",
    "\n",
    "\n",
    "id = df['User_ID']\n",
    "cliente = df['Nome_Cliente']\n",
    "patrimonio = df['Patrimonio']\n",
    "\n",
    "display(df)"
   ]
  },
  {
   "cell_type": "markdown",
   "metadata": {},
   "source": [
    "Transform\n",
    "\n",
    "    * Criei um nova coluna no arquivo, obedecendo uma condição especifica;\n",
    "    * Inserir o resultado na nova coluna;\n",
    "    * Criei dois novos arquivos:\n",
    "        \n",
    "        * 1º com todos os dados (antigos e novos)\n",
    "        * 2ª contendo apensas as colunas necessárias para a análise. \n",
    "\n",
    "    "
   ]
  },
  {
   "cell_type": "code",
   "execution_count": null,
   "metadata": {},
   "outputs": [],
   "source": [
    "status = []\n",
    "classe = []\n",
    "\n",
    "\n",
    "for valor in patrimonio:\n",
    "    if valor >= 150000:\n",
    "         status = 'Black'\n",
    "    elif valor >= 90000:\n",
    "        status = 'Platinum'\n",
    "    else:\n",
    "        status = 'Gold'\n",
    "    classe.append(status)\n",
    "\n",
    "df['Classe_Cliente'] = classe\n",
    "\n",
    "new_df = df\n"
   ]
  },
  {
   "cell_type": "code",
   "execution_count": null,
   "metadata": {},
   "outputs": [],
   "source": [
    "df_tabela_classe = new_df[['Nome_Cliente','Classe_Cliente']]\n",
    "df_tabela_classe"
   ]
  },
  {
   "cell_type": "code",
   "execution_count": null,
   "metadata": {},
   "outputs": [],
   "source": [
    "classe_black = df_tabela_classe[df_tabela_classe['Classe_Cliente'] == 'Black']\n",
    "\n",
    "classe_platinum = df_tabela_classe[df_tabela_classe['Classe_Cliente'] == 'Platinum']\n",
    "\n",
    "classe_gold = df_tabela_classe[df_tabela_classe['Classe_Cliente'] == 'Gold']\n",
    "\n",
    "display(classe_black,classe_platinum,classe_gold)"
   ]
  },
  {
   "cell_type": "markdown",
   "metadata": {},
   "source": [
    "Load\n",
    "    \n",
    "    * Por fim, salvei os dois novos arquivos na pasta original."
   ]
  },
  {
   "cell_type": "code",
   "execution_count": null,
   "metadata": {},
   "outputs": [],
   "source": [
    "new_df.to_csv(r'Nova_base_SDW2023.csv', sep=',')\n",
    "df_tabela_classe.to_csv(r'Classes_clientes.csv', sep=',')"
   ]
  }
 ],
 "metadata": {
  "kernelspec": {
   "display_name": "Python 3",
   "language": "python",
   "name": "python3"
  },
  "language_info": {
   "codemirror_mode": {
    "name": "ipython",
    "version": 3
   },
   "file_extension": ".py",
   "mimetype": "text/x-python",
   "name": "python",
   "nbconvert_exporter": "python",
   "pygments_lexer": "ipython3",
   "version": "3.11.5"
  }
 },
 "nbformat": 4,
 "nbformat_minor": 2
}
